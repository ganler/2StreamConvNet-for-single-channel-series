{
  "nbformat": 4,
  "nbformat_minor": 0,
  "metadata": {
    "colab": {
      "name": "多媒体大作业实践报告与代码.ipynb",
      "version": "0.3.2",
      "provenance": [],
      "collapsed_sections": [],
      "toc_visible": true,
      "include_colab_link": true
    },
    "kernelspec": {
      "name": "python3",
      "display_name": "Python 3"
    },
    "accelerator": "GPU"
  },
  "cells": [
    {
      "cell_type": "markdown",
      "metadata": {
        "id": "view-in-github",
        "colab_type": "text"
      },
      "source": [
        "<a href=\"https://colab.research.google.com/github/ganler/2StreamConvNet-for-single-channel-series/blob/master/%E5%A4%9A%E5%AA%92%E4%BD%93%E5%A4%A7%E4%BD%9C%E4%B8%9A%E5%AE%9E%E8%B7%B5%E6%8A%A5%E5%91%8A%E4%B8%8E%E4%BB%A3%E7%A0%81.ipynb\" target=\"_parent\"><img src=\"https://colab.research.google.com/assets/colab-badge.svg\" alt=\"Open In Colab\"/></a>"
      ]
    },
    {
      "metadata": {
        "id": "puyTvD-UwYPi",
        "colab_type": "text"
      },
      "cell_type": "markdown",
      "source": [
        "# 多媒体大作业实践报告与代码\n",
        "\n",
        "> By: 刘佳伟 & 温鑫 \n",
        "\n",
        "> $26^{th} April$\n",
        "\n",
        "> If you want to support our work, your star on our Github repo will be a great encouragement to us. [GitHub link](https://github.com/ganler/2StreamConvNet-for-single-channel-series). \n",
        "\n",
        "> Many many thanks.\n",
        "\n",
        "\n",
        "\n",
        "## Brief introduction\n",
        "\n",
        "Two stream convNet is a famous CNN architecture series in action recognition. The former 2 stream convNet implementations are mainly based on RGB frame series(input of 3*len(series)), which cannot use some strong pretrained model(e.g. ResNet-50) in image recognition(input of 3 channel only).\n",
        "\n",
        "In some cases, we do action recognition with frames of 1 channels(gray pics, dynamic vision sensor(DVS) pics). If you want to test how pretrained image recognition models works on single channel action recognition, this repo will help you. But attention that the length of input single channel series must be 3(as RGB image has only 3 channels). I also provide few simple data to test if the code works.(At least, it works on my MacOS). To be honest, the code is not that hard to write, as PyTorch provided a user-friendly API.(The most tricky part is the dataloader and the arrangement of files.)\n",
        "\n",
        "> 简单来说，我们把DVS产生的连续帧数据整合成了3-frame的图片，作为一些image-recognition pre-trained 模型的输入。其中我们使用了`UCF-50`的DVS数据集，并从中抽取了3类，分别代表：\n",
        "- 唱（吉他弹唱）\n",
        "- 跳（跳水）\n",
        "- 篮球\n",
        "\n",
        "(如果您并不清楚下图的内涵，请忽略之。If you're not familiar with the following image, please ignore it.)\n",
        "\n",
        "![](http://wx1.sinaimg.cn/large/006APoFYly1g1uo54vnzyg303s06dwxw.gif)\n",
        "\n",
        "\n",
        "## 环境和流程 Environment and pipelines\n",
        "\n",
        "### 环境 Environment\n",
        "\n",
        "- 使用Google的Colab即可(可以使用免费的GPU/CPU/TPU)；\n",
        "- 若是自己配置环境则需要：\n",
        "  - `PyTorch 1.0.0` based on `Python3.6+`\n",
        "  - `Numpy & Pandas & PIL`\n",
        "\n",
        "### 流程 & 代码整体思路 pipelines\n",
        "\n",
        "- Prepare Dataset files\n",
        "- Split the data into train/valid/test(Generate a .csv for each)\n",
        "- Load data via custom dataloader\n",
        "- Train pretrained models\n",
        "- See the results\n",
        "\n",
        "> Easy and funny, right ?\n",
        "\n",
        "## Let us play with the codes ~\n",
        "\n",
        "### Prepare Dataset files\n",
        "\n",
        "（We have transfered our DVS data into gray image data）\n",
        "\n",
        "We set our dataset in following file format:\n",
        "\n",
        "```\n",
        "- DataSet/\n",
        "\t- class_0/\n",
        "\t\t- sample_0/\n",
        "          - frames(images)\n",
        "\t\t- sample_1/\n",
        "\t\t...\n",
        "\t\t- sample_N/\n",
        "\t- class_1/\n",
        "\t...\n",
        "\t- class_N/\n",
        "```\n",
        "\n"
      ]
    },
    {
      "metadata": {
        "id": "wQDzKXd019rj",
        "colab_type": "code",
        "colab": {}
      },
      "cell_type": "code",
      "source": [
        "# Download the dataset we prepared via the following codes.\n",
        "\n",
        "from google_drive_downloader import GoogleDriveDownloader as gdd\n",
        "\n",
        "gdd.download_file_from_google_drive(file_id='1mbz7Oym-plR3ucMiA4t911WRs62sLglw',\n",
        "                                    dest_path='./DataSet.zip',\n",
        "                                    unzip = True)"
      ],
      "execution_count": 0,
      "outputs": []
    },
    {
      "metadata": {
        "id": "i3RDe-kI4EPh",
        "colab_type": "text"
      },
      "cell_type": "markdown",
      "source": [
        "### Import packages"
      ]
    },
    {
      "metadata": {
        "id": "mYkjEcxL4Gbr",
        "colab_type": "code",
        "colab": {}
      },
      "cell_type": "code",
      "source": [
        "import os\n",
        "import copy\n",
        "import pandas as pd\n",
        "import numpy as np\n",
        "import matplotlib.pyplot as plt\n",
        "from PIL import Image\n",
        "\n",
        "import torch\n",
        "from torch import nn\n",
        "\n",
        "import torchvision.models as models\n",
        "from torch.utils import model_zoo\n",
        "from torchvision import transforms"
      ],
      "execution_count": 0,
      "outputs": []
    },
    {
      "metadata": {
        "id": "HF1MLl6Y3sNi",
        "colab_type": "text"
      },
      "cell_type": "markdown",
      "source": [
        "### Split the data into train/valid/test(Generate a .csv for each)"
      ]
    },
    {
      "metadata": {
        "id": "tYssOG3U3tUz",
        "colab_type": "code",
        "colab": {}
      },
      "cell_type": "code",
      "source": [
        "# 提前声明一些配置参数\n",
        "\n",
        "'''\n",
        "假设我们的数据格式是这样：\n",
        "-DataSet\n",
        "    - class_0\n",
        "        - sample_0\n",
        "                - xxx.png\n",
        "                ...\n",
        "                ...\n",
        "        - sample_1\n",
        "        ...\n",
        "    - class_1\n",
        "        ...\n",
        "    ...\n",
        "    - class_N\n",
        "本段代码最后生成3个csv文件，分别是\n",
        "- train.csv,\n",
        "- valid.csv,\n",
        "- test.csv\n",
        "'''\n",
        "\n",
        "# ==========================================\n",
        "_dict = {'frame_0':[], 'frame_1':[], 'frame_2':[], 'tags': []}\n",
        "\n",
        "\n",
        "# 数据集母文件的路径\n",
        "dataset_loc = 'DataSet/'\n",
        "\n",
        "\n",
        "# 即将产生的csv的路径\n",
        "train_csv = 'train.csv'\n",
        "valid_csv = 'valid.csv'\n",
        "test_csv = 'test.csv'\n",
        "\n",
        "\n",
        "# Train, Test, Validation的比例\n",
        "split_pro = [0.7, 0.3, 0]"
      ],
      "execution_count": 0,
      "outputs": []
    },
    {
      "metadata": {
        "id": "bqbG6gzp5kUl",
        "colab_type": "code",
        "colab": {}
      },
      "cell_type": "code",
      "source": [
        "# 定义划分数据集的函数\n",
        "# ATTENTION: 请保证sample_i中的图片是按顺序的\n",
        "def csv_generate(split, shuffle=True):\n",
        "    # shuffle代表是否打乱（默认打乱）\n",
        "    if not os.path.exists(dataset_loc): # 没找到数据集，需要返回上面步骤进行下载。\n",
        "        print(f'{dataset_loc} not found. Downloading dataset. ({dataset_loc} 不存在')\n",
        "    \n",
        "    for root, s_dirs, _ in os.walk(dataset_loc, topdown=True):\n",
        "        for sub_dir in s_dirs:\n",
        "            if str(sub_dir)[0] != 'c' and str(sub_dir)[0] != 'C': # 如果类别文件夹不以C/c开头则跳过\n",
        "                continue\n",
        "            tag = str(sub_dir).split('_')[1]                     # tag = class_N中的N\n",
        "            class_dir = os.path.join(root, sub_dir)              # class_dir 是class_x的folder的位置\n",
        "            video_dir_list = os.listdir(class_dir)               # 其中的sample\n",
        "            for i in range(len(video_dir_list)):\n",
        "                this_sample_dir = str(class_dir) + '/' + str(video_dir_list[i])\n",
        "                sample_list = os.listdir(this_sample_dir)        # 图片列表\n",
        "                sample_list.sort(key=lambda x:int(x[:-4]))\n",
        "                if len(sample_list) == 0:                        # 检查文件夹是否为空\n",
        "                    print(this_sample_dir + ' -> is empty')\n",
        "                for j in range(len(sample_list)-2):\n",
        "                    if sample_list:\n",
        "                        _dict['frame_0'].append(\n",
        "                            this_sample_dir + '/' + str(sample_list[j]))\n",
        "                        _dict['frame_1'].append(\n",
        "                            this_sample_dir + '/' + str(sample_list[j+1]))\n",
        "                        _dict['frame_2'].append(\n",
        "                            this_sample_dir + '/' + str(sample_list[j+2]))\n",
        "                    else:\n",
        "                        _dict['s_frame_0'].append('null')\n",
        "                        _dict['s_frame_1'].append('null')\n",
        "                        _dict['s_frame_2'].append('null')\n",
        "                    _dict['tags'].append(tag)\n",
        "    if os.path.exists(dataset_loc):\n",
        "        # 打乱并切分\n",
        "        df = pd.DataFrame(_dict).sample(frac=shuffle)\n",
        "\n",
        "        if shuffle:\n",
        "            df = df.reset_index()\n",
        "\n",
        "        train = df.loc[0 : int(split[0]*len(df))]\n",
        "\n",
        "        valid = df.loc[int(split[0]*len(df)) : int(len(df)*(split[0]+split[1]))]\n",
        "\n",
        "        test = df.loc[int((split[0]+split[1])*len(df)) : len(df)-1]\n",
        "\n",
        "        train.to_csv(train_csv)\n",
        "        valid.to_csv(valid_csv)\n",
        "        test.to_csv(test_csv)"
      ],
      "execution_count": 0,
      "outputs": []
    },
    {
      "metadata": {
        "id": "MQ_t6aP2AiRT",
        "colab_type": "code",
        "colab": {}
      },
      "cell_type": "code",
      "source": [
        "# Generate train/\n",
        "csv_generate(split_pro)"
      ],
      "execution_count": 0,
      "outputs": []
    },
    {
      "metadata": {
        "id": "JYMQjzLR42Fn",
        "colab_type": "text"
      },
      "cell_type": "markdown",
      "source": [
        "### Load data via custom dataloader"
      ]
    },
    {
      "metadata": {
        "id": "KA7i1Ztz44JT",
        "colab_type": "code",
        "colab": {}
      },
      "cell_type": "code",
      "source": [
        "class DVS_PNG_DATASET(torch.utils.data.Dataset):\n",
        "    def __init__(self, csv_path, transform=transforms.ToTensor()):\n",
        "        tmp_df = pd.read_csv(csv_path)\n",
        "        self.transform = transform\n",
        "        self.channels = [tmp_df['frame_0'], tmp_df['frame_1'], tmp_df['frame_2']]\n",
        "        self.labels = tmp_df['tags'].astype(np.int32)\n",
        "    \n",
        "    def __getitem__(self, index):\n",
        "        img0 = Image.open(self.channels[0][index]).convert('L')\n",
        "        img1 = Image.open(self.channels[1][index]).convert('L')\n",
        "        img2 = Image.open(self.channels[2][index]).convert('L')\n",
        "        \n",
        "        if self.transform is not None:\n",
        "            img0 = self.transform(img0)\n",
        "            img1 = self.transform(img1)\n",
        "            img2 = self.transform(img2)\n",
        "            \n",
        "        src = torch.cat([img0, img1, img2], 0)\n",
        "        label = torch.from_numpy(np.array(self.labels[index])).long()\n",
        "        return src, label\n",
        "        \n",
        "    def __len__(self):\n",
        "        return len(self.labels.index)"
      ],
      "execution_count": 0,
      "outputs": []
    },
    {
      "metadata": {
        "id": "XBBLIHGm76q3",
        "colab_type": "text"
      },
      "cell_type": "markdown",
      "source": [
        "### Train our network !\n",
        "\n",
        "#### Hyper parameters"
      ]
    },
    {
      "metadata": {
        "id": "UKlUEARW8Amc",
        "colab_type": "code",
        "colab": {}
      },
      "cell_type": "code",
      "source": [
        "device = torch.device('cuda' if torch.cuda.is_available() else 'cpu')\n",
        "\n",
        "num_epochs = 3\n",
        "learning_rate = 0.001\n",
        "batch_size = 32\n",
        "num_classes = 3\n",
        "print_len = 30\n",
        "wd = 1e-3\n",
        "\n",
        "criterion = nn.CrossEntropyLoss()\n",
        "\n",
        "custom_transform = transforms.Compose([\n",
        "    transforms.Resize(224),\n",
        "    transforms.ToTensor()\n",
        "])\n",
        "\n",
        "train_dataset = DVS_PNG_DATASET('train.csv', custom_transform)\n",
        "valid_dataset = DVS_PNG_DATASET('valid.csv', custom_transform)\n",
        "\n",
        "train_loader = torch.utils.data.DataLoader(\n",
        "    dataset=train_dataset,\n",
        "    batch_size=batch_size,\n",
        "    num_workers=4,\n",
        "    shuffle=True\n",
        ")\n",
        "\n",
        "valid_loader = torch.utils.data.DataLoader(\n",
        "    dataset=valid_dataset,\n",
        "    batch_size=batch_size,\n",
        "    num_workers=4,\n",
        "    shuffle=False\n",
        ")"
      ],
      "execution_count": 0,
      "outputs": []
    },
    {
      "metadata": {
        "id": "MHQEUv6TAUid",
        "colab_type": "code",
        "colab": {}
      },
      "cell_type": "code",
      "source": [
        "# Build some utilities;\n",
        "# 建立一些方便训练的函数\n",
        "\n",
        "# 打印模板\n",
        "train_template = '>>> {} === Epoch [{}/{}], Step [{}/{}], Loss: {:.4f}'\n",
        "test_template = '\\n>>> {} === Test Accuracy of the model on the {} test samples: {} %\\n'\n",
        "\n",
        "def make_new_pretrained_model(pre_model):\n",
        "    ret_model = pre_model\n",
        "    ret_model.fc = nn.Linear(model.fc.in_features, num_classes)\n",
        "    \n",
        "    pre_dict = pre_model.state_dict()\n",
        "    ret_dict = ret_model.state_dict()\n",
        "    \n",
        "    update_dict = {k: v for k, v in pre_dict.items() if k in ret_dict}\n",
        "    ret_dict.update(update_dict)\n",
        "    \n",
        "    return ret_model\n",
        "\n",
        "def make_new_pretrained_model_vgg(pre_model):\n",
        "    ret_model = copy.deepcopy(pre_model)\n",
        "    ret_model.classifier._modules['6'] = nn.Linear(model.classifier._modules['6'].in_features, num_classes)\n",
        "    \n",
        "    pre_dict = pre_model.state_dict()\n",
        "    ret_dict = ret_model.state_dict()\n",
        "    \n",
        "    update_dict = {k: v for k, v in pre_dict.items() if k in ret_dict}\n",
        "    ret_dict.update(update_dict)\n",
        "    \n",
        "    return ret_model\n",
        "  \n",
        "def make_new_pretrained_model_dense(pre_model):\n",
        "    ret_model = copy.deepcopy(pre_model)\n",
        "    ret_model.classifier = nn.Linear(model.classifier.in_features, num_classes)\n",
        "    \n",
        "    pre_dict = pre_model.state_dict()\n",
        "    ret_dict = ret_model.state_dict()\n",
        "    \n",
        "    update_dict = {k: v for k, v in pre_dict.items() if k in ret_dict}\n",
        "    ret_dict.update(update_dict)\n",
        "    \n",
        "    return ret_model\n",
        "  \n",
        "def train_it(train_data, train_model, optimizer, loss_list, log = ''):\n",
        "    train_model = train_model.to(device)\n",
        "    total_steps = len(train_data)\n",
        "    for ep in range(num_epochs):\n",
        "        for i, (x, y) in enumerate(train_data):\n",
        "            if device.type == 'cuda':\n",
        "                torch.cuda.empty_cache()\n",
        "\n",
        "            x = x.to(device)\n",
        "            y = y.to(device)\n",
        "            if 'Inception' in log:\n",
        "                out, aux = train_model(x)\n",
        "                loss1 = criterion(out, y)\n",
        "                loss2 = criterion(aux, y)\n",
        "                loss = loss1 + 0.4*loss2\n",
        "            else:\n",
        "                out = train_model(x)\n",
        "                loss = criterion(out, y)\n",
        "            \n",
        "            optimizer.zero_grad()\n",
        "            loss.backward()\n",
        "            optimizer.step()\n",
        "            loss_list.append(loss.item())\n",
        "            if (i + 1) % print_len == 0:\n",
        "                print(\n",
        "                    train_template.format(\n",
        "                        log, ep+1, num_epochs, i+1, total_steps, loss.item()\n",
        "                    ))\n",
        "\n",
        "def test_it(test_data, test_model, accuracy_list, log = ''):\n",
        "    test_model = test_model.to(device)\n",
        "    test_model.eval()\n",
        "    with torch.no_grad():\n",
        "        correct = 0\n",
        "        total = 0\n",
        "        for x, y in test_data:\n",
        "            if device.type == 'cuda':\n",
        "                torch.cuda.empty_cache()\n",
        "                \n",
        "            x = x.to(device)\n",
        "            y = y.to(device)\n",
        "\n",
        "            out = test_model(x)\n",
        "                \n",
        "            _, pre = torch.max(out.data, 1)\n",
        "            total += y.size(0)\n",
        "            correct += (y == pre).sum().item()\n",
        "    accuracy_list.append(correct / total)\n",
        "    print(test_template.format(log, total, 100 * correct / total))\n",
        "    \n",
        "def save_results(loss_list, accuracy_list, name):\n",
        "    plt.plot(range(0, len(loss_list)), loss_list)\n",
        "    file = open(name + '_loss.txt','w')  \n",
        "    file.write(str(loss_list));  \n",
        "    file.close()\n",
        "    file = open(name + '_accuracy.txt','w')  \n",
        "    file.write(str(accuracy_list));  \n",
        "    file.close()"
      ],
      "execution_count": 0,
      "outputs": []
    },
    {
      "metadata": {
        "id": "rkCrFds_9cxc",
        "colab_type": "text"
      },
      "cell_type": "markdown",
      "source": [
        "#### Pretrained ResNet"
      ]
    },
    {
      "metadata": {
        "id": "bYlKPA7R-QCV",
        "colab_type": "text"
      },
      "cell_type": "markdown",
      "source": [
        "\n",
        "##### with frozen parameters"
      ]
    },
    {
      "metadata": {
        "id": "jVaHPa2I2Z01",
        "colab_type": "text"
      },
      "cell_type": "markdown",
      "source": [
        "- ResNet18"
      ]
    },
    {
      "metadata": {
        "id": "c66ktnTe97xh",
        "colab_type": "code",
        "outputId": "610ba14a-6e07-4b9f-d77b-25157b7a7a34",
        "colab": {
          "base_uri": "https://localhost:8080/",
          "height": 272
        }
      },
      "cell_type": "code",
      "source": [
        "# RESNET\n",
        "model = models.resnet18(pretrained=True)\n",
        "# model = models.resnet50(pretrained=True)\n",
        "# model = models.resnet152(pretrained=True)\n",
        "\n",
        "name = 'Frozen_ResNet18'\n",
        "frozen_resnet = make_new_pretrained_model(model)\n",
        "\n",
        "train_again = True # 调整这个来确定是否重新训练\n",
        "loss_list = []\n",
        "accuracy_list = []\n",
        "if(train_again or not os.path.exists(name+'.ckpt')):\n",
        "    # Frozen params:\n",
        "    for para in list(frozen_resnet.parameters())[:-2]:\n",
        "        para.requires_grad = False\n",
        "\n",
        "    opt = torch.optim.Adamax(\n",
        "        params=[frozen_resnet.fc.weight, frozen_resnet.fc.bias],\n",
        "        lr=learning_rate,\n",
        "        weight_decay=wd\n",
        "    )\n",
        "    \n",
        "    train_it(train_loader, frozen_resnet, opt, loss_list, name)\n",
        "else:\n",
        "    frozen_resnet.load_state_dict(torch.load(name+'.ckpt'))\n",
        "    \n",
        "test_it(valid_loader, frozen_resnet, accuracy_list, name)\n",
        "\n",
        "if(train_again or not os.path.exists(name+'.ckpt')):\n",
        "    torch.save(frozen_resnet.state_dict(), name+'.ckpt')\n",
        "    \n",
        "del model"
      ],
      "execution_count": 9,
      "outputs": [
        {
          "output_type": "stream",
          "text": [
            ">>> Frozen_ResNet18 === Epoch [1/3], Step [30/126], Loss: 0.6844\n",
            ">>> Frozen_ResNet18 === Epoch [1/3], Step [60/126], Loss: 0.5307\n",
            ">>> Frozen_ResNet18 === Epoch [1/3], Step [90/126], Loss: 0.4335\n",
            ">>> Frozen_ResNet18 === Epoch [1/3], Step [120/126], Loss: 0.4718\n",
            ">>> Frozen_ResNet18 === Epoch [2/3], Step [30/126], Loss: 0.3015\n",
            ">>> Frozen_ResNet18 === Epoch [2/3], Step [60/126], Loss: 0.2950\n",
            ">>> Frozen_ResNet18 === Epoch [2/3], Step [90/126], Loss: 0.2968\n",
            ">>> Frozen_ResNet18 === Epoch [2/3], Step [120/126], Loss: 0.3239\n",
            ">>> Frozen_ResNet18 === Epoch [3/3], Step [30/126], Loss: 0.3732\n",
            ">>> Frozen_ResNet18 === Epoch [3/3], Step [60/126], Loss: 0.4075\n",
            ">>> Frozen_ResNet18 === Epoch [3/3], Step [90/126], Loss: 0.4751\n",
            ">>> Frozen_ResNet18 === Epoch [3/3], Step [120/126], Loss: 0.4231\n",
            "\n",
            ">>> Frozen_ResNet18 === Test Accuracy of the model on the 1728 test samples: 92.24537037037037 %\n",
            "\n"
          ],
          "name": "stdout"
        }
      ]
    },
    {
      "metadata": {
        "id": "vYomu4Ow2PP0",
        "colab_type": "code",
        "outputId": "022fc244-b18d-4676-f793-cb8b90ca29d4",
        "colab": {
          "base_uri": "https://localhost:8080/",
          "height": 269
        }
      },
      "cell_type": "code",
      "source": [
        "save_results(loss_list, accuracy_list, name)"
      ],
      "execution_count": 10,
      "outputs": [
        {
          "output_type": "display_data",
          "data": {
            "image/png": "[encoded data removed]",
            "text/plain": [
              "<Figure size 432x288 with 1 Axes>"
            ]
          },
          "metadata": {
            "tags": []
          }
        }
      ]
    },
    {
      "metadata": {
        "id": "Aaicaq9x2mMS",
        "colab_type": "text"
      },
      "cell_type": "markdown",
      "source": [
        "- ResNet50"
      ]
    },
    {
      "metadata": {
        "id": "8siu4QBk2uDf",
        "colab_type": "code",
        "outputId": "97c2e972-4ffc-4719-d402-172a9bf3bac8",
        "colab": {
          "base_uri": "https://localhost:8080/",
          "height": 272
        }
      },
      "cell_type": "code",
      "source": [
        "# RESNET\n",
        "# model = models.resnet18(pretrained=True)\n",
        "model = models.resnet50(pretrained=True)\n",
        "# model = models.resnet152(pretrained=True)\n",
        "\n",
        "name = 'Frozen_ResNet50'\n",
        "frozen_resnet = make_new_pretrained_model(model)\n",
        "\n",
        "train_again = True # 调整这个来确定是否重新训练\n",
        "loss_list = []\n",
        "accuracy_list = []\n",
        "if(train_again or not os.path.exists(name+'.ckpt')):\n",
        "    # Frozen params:\n",
        "    for para in list(frozen_resnet.parameters())[:-2]:\n",
        "        para.requires_grad = False\n",
        "\n",
        "    opt = torch.optim.Adamax(\n",
        "        params=[frozen_resnet.fc.weight, frozen_resnet.fc.bias],\n",
        "        lr=learning_rate,\n",
        "        weight_decay=wd\n",
        "    )\n",
        "    \n",
        "    train_it(train_loader, frozen_resnet, opt, loss_list, name)\n",
        "else:\n",
        "    frozen_resnet.load_state_dict(torch.load(name+'.ckpt'))\n",
        "    \n",
        "test_it(valid_loader, frozen_resnet, accuracy_list, name)\n",
        "\n",
        "if(train_again or not os.path.exists(name+'.ckpt')):\n",
        "    torch.save(frozen_resnet.state_dict(), name+'.ckpt')\n",
        "\n",
        "del model"
      ],
      "execution_count": 11,
      "outputs": [
        {
          "output_type": "stream",
          "text": [
            ">>> Frozen_ResNet50 === Epoch [1/3], Step [30/126], Loss: 0.6421\n",
            ">>> Frozen_ResNet50 === Epoch [1/3], Step [60/126], Loss: 0.5380\n",
            ">>> Frozen_ResNet50 === Epoch [1/3], Step [90/126], Loss: 0.4147\n",
            ">>> Frozen_ResNet50 === Epoch [1/3], Step [120/126], Loss: 0.3405\n",
            ">>> Frozen_ResNet50 === Epoch [2/3], Step [30/126], Loss: 0.4990\n",
            ">>> Frozen_ResNet50 === Epoch [2/3], Step [60/126], Loss: 0.5048\n",
            ">>> Frozen_ResNet50 === Epoch [2/3], Step [90/126], Loss: 0.3469\n",
            ">>> Frozen_ResNet50 === Epoch [2/3], Step [120/126], Loss: 0.6094\n",
            ">>> Frozen_ResNet50 === Epoch [3/3], Step [30/126], Loss: 0.3270\n",
            ">>> Frozen_ResNet50 === Epoch [3/3], Step [60/126], Loss: 0.4202\n",
            ">>> Frozen_ResNet50 === Epoch [3/3], Step [90/126], Loss: 0.4199\n",
            ">>> Frozen_ResNet50 === Epoch [3/3], Step [120/126], Loss: 0.2288\n",
            "\n",
            ">>> Frozen_ResNet50 === Test Accuracy of the model on the 1728 test samples: 93.98148148148148 %\n",
            "\n"
          ],
          "name": "stdout"
        }
      ]
    },
    {
      "metadata": {
        "id": "KWoD0IOI2Zx6",
        "colab_type": "code",
        "outputId": "176af418-5b42-4faf-c171-83a5344fd969",
        "colab": {
          "base_uri": "https://localhost:8080/",
          "height": 269
        }
      },
      "cell_type": "code",
      "source": [
        "save_results(loss_list, accuracy_list, name)"
      ],
      "execution_count": 12,
      "outputs": [
        {
          "output_type": "display_data",
          "data": {
            "image/png": "[encoded data removed]",
            "text/plain": [
              "<Figure size 432x288 with 1 Axes>"
            ]
          },
          "metadata": {
            "tags": []
          }
        }
      ]
    },
    {
      "metadata": {
        "id": "ftU8kcDE2oio",
        "colab_type": "text"
      },
      "cell_type": "markdown",
      "source": [
        "- ResNet152"
      ]
    },
    {
      "metadata": {
        "id": "GIq1cmRn2rQ5",
        "colab_type": "code",
        "outputId": "74c2fc1f-dec2-48f6-8061-69783e0d5d07",
        "colab": {
          "base_uri": "https://localhost:8080/",
          "height": 272
        }
      },
      "cell_type": "code",
      "source": [
        "# RESNET\n",
        "# model = models.resnet18(pretrained=True)\n",
        "# model = models.resnet50(pretrained=True)\n",
        "model = models.resnet152(pretrained=True)\n",
        "\n",
        "name = 'Frozen_ResNet152'\n",
        "frozen_resnet = make_new_pretrained_model(model)\n",
        "\n",
        "train_again = True # 调整这个来确定是否重新训练\n",
        "loss_list = []\n",
        "accuracy_list = []\n",
        "if(train_again or not os.path.exists(name+'.ckpt')):\n",
        "    # Frozen params:\n",
        "    for para in list(frozen_resnet.parameters())[:-2]:\n",
        "        para.requires_grad = False\n",
        "\n",
        "    opt = torch.optim.Adamax(\n",
        "        params=[frozen_resnet.fc.weight, frozen_resnet.fc.bias],\n",
        "        lr=learning_rate,\n",
        "        weight_decay=wd\n",
        "    )\n",
        "    \n",
        "    train_it(train_loader, frozen_resnet, opt, loss_list, name)\n",
        "else:\n",
        "    frozen_resnet.load_state_dict(torch.load(name+'.ckpt'))\n",
        "    \n",
        "test_it(valid_loader, frozen_resnet, accuracy_list, name)\n",
        "\n",
        "if(train_again or not os.path.exists(name+'.ckpt')):\n",
        "    torch.save(frozen_resnet.state_dict(), name+'.ckpt')\n",
        "\n",
        "del model"
      ],
      "execution_count": 13,
      "outputs": [
        {
          "output_type": "stream",
          "text": [
            ">>> Frozen_ResNet152 === Epoch [1/3], Step [30/126], Loss: 0.5746\n",
            ">>> Frozen_ResNet152 === Epoch [1/3], Step [60/126], Loss: 0.4852\n",
            ">>> Frozen_ResNet152 === Epoch [1/3], Step [90/126], Loss: 0.6216\n",
            ">>> Frozen_ResNet152 === Epoch [1/3], Step [120/126], Loss: 0.3938\n",
            ">>> Frozen_ResNet152 === Epoch [2/3], Step [30/126], Loss: 0.4678\n",
            ">>> Frozen_ResNet152 === Epoch [2/3], Step [60/126], Loss: 0.4152\n",
            ">>> Frozen_ResNet152 === Epoch [2/3], Step [90/126], Loss: 0.4822\n",
            ">>> Frozen_ResNet152 === Epoch [2/3], Step [120/126], Loss: 0.3456\n",
            ">>> Frozen_ResNet152 === Epoch [3/3], Step [30/126], Loss: 0.3410\n",
            ">>> Frozen_ResNet152 === Epoch [3/3], Step [60/126], Loss: 0.3047\n",
            ">>> Frozen_ResNet152 === Epoch [3/3], Step [90/126], Loss: 0.2251\n",
            ">>> Frozen_ResNet152 === Epoch [3/3], Step [120/126], Loss: 0.3000\n",
            "\n",
            ">>> Frozen_ResNet152 === Test Accuracy of the model on the 1728 test samples: 92.70833333333333 %\n",
            "\n"
          ],
          "name": "stdout"
        }
      ]
    },
    {
      "metadata": {
        "id": "WP4OJSe12die",
        "colab_type": "code",
        "outputId": "73e510d1-561b-444b-9489-c9da8cdb2560",
        "colab": {
          "base_uri": "https://localhost:8080/",
          "height": 269
        }
      },
      "cell_type": "code",
      "source": [
        "save_results(loss_list, accuracy_list, name)"
      ],
      "execution_count": 14,
      "outputs": [
        {
          "output_type": "display_data",
          "data": {
            "image/png": "[encoded data removed]",
            "text/plain": [
              "<Figure size 432x288 with 1 Axes>"
            ]
          },
          "metadata": {
            "tags": []
          }
        }
      ]
    },
    {
      "metadata": {
        "id": "a6DRODBf9vw9",
        "colab_type": "text"
      },
      "cell_type": "markdown",
      "source": [
        "##### without frozen parameters"
      ]
    },
    {
      "metadata": {
        "id": "CPE8F2gI29LH",
        "colab_type": "text"
      },
      "cell_type": "markdown",
      "source": [
        "- ResNet18"
      ]
    },
    {
      "metadata": {
        "id": "5OUmka-PMFQM",
        "colab_type": "code",
        "outputId": "90f85ba0-b0e8-435c-dfd1-37105002db7b",
        "colab": {
          "base_uri": "https://localhost:8080/",
          "height": 272
        }
      },
      "cell_type": "code",
      "source": [
        "# RESNET\n",
        "model = models.resnet18(pretrained=True)\n",
        "# model = models.resnet50(pretrained=True)\n",
        "# model = models.resnet152(pretrained=True)\n",
        "\n",
        "name = 'Unfrozen_ResNet18'\n",
        "unfrozen_resnet = make_new_pretrained_model(model)\n",
        "\n",
        "train_again = True # 调整这个来确定是否重新训练\n",
        "loss_list = []\n",
        "accuracy_list = []\n",
        "if(train_again or not os.path.exists(name+'.ckpt')):\n",
        "    opt = torch.optim.Adamax(\n",
        "        unfrozen_resnet.parameters(),\n",
        "        lr=learning_rate,\n",
        "        weight_decay=wd\n",
        "    )\n",
        "\n",
        "    train_it(train_loader, unfrozen_resnet, opt, loss_list, name)\n",
        "else:\n",
        "    unfrozen_resnet.load_state_dict(torch.load(name+'.ckpt'))\n",
        "\n",
        "test_it(valid_loader, unfrozen_resnet, accuracy_list, name)\n",
        "\n",
        "if(train_again or not os.path.exists(name+'.ckpt')):\n",
        "    torch.save(unfrozen_resnet.state_dict(), name+'.ckpt')\n",
        "    \n",
        "del model"
      ],
      "execution_count": 15,
      "outputs": [
        {
          "output_type": "stream",
          "text": [
            ">>> Unfrozen_ResNet18 === Epoch [1/3], Step [30/126], Loss: 0.1202\n",
            ">>> Unfrozen_ResNet18 === Epoch [1/3], Step [60/126], Loss: 0.0096\n",
            ">>> Unfrozen_ResNet18 === Epoch [1/3], Step [90/126], Loss: 0.0059\n",
            ">>> Unfrozen_ResNet18 === Epoch [1/3], Step [120/126], Loss: 0.0025\n",
            ">>> Unfrozen_ResNet18 === Epoch [2/3], Step [30/126], Loss: 0.0016\n",
            ">>> Unfrozen_ResNet18 === Epoch [2/3], Step [60/126], Loss: 0.0015\n",
            ">>> Unfrozen_ResNet18 === Epoch [2/3], Step [90/126], Loss: 0.0118\n",
            ">>> Unfrozen_ResNet18 === Epoch [2/3], Step [120/126], Loss: 0.0018\n",
            ">>> Unfrozen_ResNet18 === Epoch [3/3], Step [30/126], Loss: 0.0005\n",
            ">>> Unfrozen_ResNet18 === Epoch [3/3], Step [60/126], Loss: 0.0002\n",
            ">>> Unfrozen_ResNet18 === Epoch [3/3], Step [90/126], Loss: 0.0033\n",
            ">>> Unfrozen_ResNet18 === Epoch [3/3], Step [120/126], Loss: 0.0017\n",
            "\n",
            ">>> Unfrozen_ResNet18 === Test Accuracy of the model on the 1728 test samples: 100.0 %\n",
            "\n"
          ],
          "name": "stdout"
        }
      ]
    },
    {
      "metadata": {
        "id": "mk4UwabU2gN0",
        "colab_type": "code",
        "colab": {
          "base_uri": "https://localhost:8080/",
          "height": 269
        },
        "outputId": "5a13a785-ec93-4ef0-aef7-c141268c071d"
      },
      "cell_type": "code",
      "source": [
        "save_results(loss_list, accuracy_list, name)"
      ],
      "execution_count": 16,
      "outputs": [
        {
          "output_type": "display_data",
          "data": {
            "image/png": "[encoded data removed]",
            "text/plain": [
              "<Figure size 432x288 with 1 Axes>"
            ]
          },
          "metadata": {
            "tags": []
          }
        }
      ]
    },
    {
      "metadata": {
        "id": "mC9GSYob3XSz",
        "colab_type": "text"
      },
      "cell_type": "markdown",
      "source": [
        "- ResNet50"
      ]
    },
    {
      "metadata": {
        "id": "I4kWA_to3ZuA",
        "colab_type": "code",
        "colab": {
          "base_uri": "https://localhost:8080/",
          "height": 272
        },
        "outputId": "a00db7ed-0d34-4e33-f2c5-a407499963b7"
      },
      "cell_type": "code",
      "source": [
        "# RESNET\n",
        "# model = models.resnet18(pretrained=True)\n",
        "model = models.resnet50(pretrained=True)\n",
        "# model = models.resnet152(pretrained=True)\n",
        "\n",
        "name = 'Unfrozen_ResNet50'\n",
        "unfrozen_resnet = make_new_pretrained_model(model)\n",
        "\n",
        "train_again = True # 调整这个来确定是否重新训练\n",
        "loss_list = []\n",
        "accuracy_list = []\n",
        "if(train_again or not os.path.exists(name+'.ckpt')):\n",
        "    opt = torch.optim.Adamax(\n",
        "        unfrozen_resnet.parameters(),\n",
        "        lr=learning_rate,\n",
        "        weight_decay=wd\n",
        "    )\n",
        "    train_it(train_loader, unfrozen_resnet, opt, loss_list, name)\n",
        "else:\n",
        "    unfrozen_resnet.load_state_dict(torch.load(name+'.ckpt'))\n",
        "\n",
        "test_it(valid_loader, unfrozen_resnet, accuracy_list, name)\n",
        "\n",
        "if(train_again or not os.path.exists(name+'.ckpt')):\n",
        "    torch.save(unfrozen_resnet.state_dict(), name+'.ckpt')\n",
        "\n",
        "del model"
      ],
      "execution_count": 17,
      "outputs": [
        {
          "output_type": "stream",
          "text": [
            ">>> Unfrozen_ResNet50 === Epoch [1/3], Step [30/126], Loss: 0.0680\n",
            ">>> Unfrozen_ResNet50 === Epoch [1/3], Step [60/126], Loss: 0.1470\n",
            ">>> Unfrozen_ResNet50 === Epoch [1/3], Step [90/126], Loss: 0.0036\n",
            ">>> Unfrozen_ResNet50 === Epoch [1/3], Step [120/126], Loss: 0.0304\n",
            ">>> Unfrozen_ResNet50 === Epoch [2/3], Step [30/126], Loss: 0.0040\n",
            ">>> Unfrozen_ResNet50 === Epoch [2/3], Step [60/126], Loss: 0.0660\n",
            ">>> Unfrozen_ResNet50 === Epoch [2/3], Step [90/126], Loss: 0.0069\n",
            ">>> Unfrozen_ResNet50 === Epoch [2/3], Step [120/126], Loss: 0.0504\n",
            ">>> Unfrozen_ResNet50 === Epoch [3/3], Step [30/126], Loss: 0.0027\n",
            ">>> Unfrozen_ResNet50 === Epoch [3/3], Step [60/126], Loss: 0.0468\n",
            ">>> Unfrozen_ResNet50 === Epoch [3/3], Step [90/126], Loss: 0.0687\n",
            ">>> Unfrozen_ResNet50 === Epoch [3/3], Step [120/126], Loss: 0.0099\n",
            "\n",
            ">>> Unfrozen_ResNet50 === Test Accuracy of the model on the 1728 test samples: 98.90046296296296 %\n",
            "\n"
          ],
          "name": "stdout"
        }
      ]
    },
    {
      "metadata": {
        "id": "ZIFcItSC2iHC",
        "colab_type": "code",
        "colab": {
          "base_uri": "https://localhost:8080/",
          "height": 269
        },
        "outputId": "47302f9f-fb49-4efa-d9ef-b9405f317af6"
      },
      "cell_type": "code",
      "source": [
        "save_results(loss_list, accuracy_list, name)"
      ],
      "execution_count": 18,
      "outputs": [
        {
          "output_type": "display_data",
          "data": {
            "image/png": "[encoded data removed]",
            "text/plain": [
              "<Figure size 432x288 with 1 Axes>"
            ]
          },
          "metadata": {
            "tags": []
          }
        }
      ]
    },
    {
      "metadata": {
        "id": "INjvhdAt3lPr",
        "colab_type": "text"
      },
      "cell_type": "markdown",
      "source": [
        "- ResNet152"
      ]
    },
    {
      "metadata": {
        "id": "9UDY6M643niI",
        "colab_type": "code",
        "colab": {
          "base_uri": "https://localhost:8080/",
          "height": 272
        },
        "outputId": "c9941732-1e69-4433-f512-7b18e86ffa9c"
      },
      "cell_type": "code",
      "source": [
        "# RESNET\n",
        "# model = models.resnet18(pretrained=True)\n",
        "# model = models.resnet50(pretrained=True)\n",
        "model = models.resnet152(pretrained=True)\n",
        "\n",
        "name = 'Unfrozen_ResNet152'\n",
        "unfrozen_resnet = make_new_pretrained_model(model)\n",
        "\n",
        "train_again = True # 调整这个来确定是否重新训练\n",
        "loss_list = []\n",
        "accuracy_list = []\n",
        "if(train_again or not os.path.exists(name+'.ckpt')):\n",
        "    opt = torch.optim.Adamax(\n",
        "        unfrozen_resnet.parameters(),\n",
        "        lr=learning_rate,\n",
        "        weight_decay=wd\n",
        "    )\n",
        "    train_it(train_loader, unfrozen_resnet, opt, loss_list, name)\n",
        "else:\n",
        "    unfrozen_resnet.load_state_dict(torch.load(name+'.ckpt'))\n",
        "\n",
        "test_it(valid_loader, unfrozen_resnet, accuracy_list, name)\n",
        "\n",
        "if(train_again or not os.path.exists(name+'.ckpt')):\n",
        "    torch.save(unfrozen_resnet.state_dict(), name+'.ckpt')\n",
        "\n",
        "del model"
      ],
      "execution_count": 19,
      "outputs": [
        {
          "output_type": "stream",
          "text": [
            ">>> Unfrozen_ResNet152 === Epoch [1/3], Step [30/126], Loss: 0.2576\n",
            ">>> Unfrozen_ResNet152 === Epoch [1/3], Step [60/126], Loss: 0.2117\n",
            ">>> Unfrozen_ResNet152 === Epoch [1/3], Step [90/126], Loss: 0.0663\n",
            ">>> Unfrozen_ResNet152 === Epoch [1/3], Step [120/126], Loss: 0.0052\n",
            ">>> Unfrozen_ResNet152 === Epoch [2/3], Step [30/126], Loss: 0.0173\n",
            ">>> Unfrozen_ResNet152 === Epoch [2/3], Step [60/126], Loss: 0.0110\n",
            ">>> Unfrozen_ResNet152 === Epoch [2/3], Step [90/126], Loss: 0.0217\n",
            ">>> Unfrozen_ResNet152 === Epoch [2/3], Step [120/126], Loss: 0.0268\n",
            ">>> Unfrozen_ResNet152 === Epoch [3/3], Step [30/126], Loss: 0.0691\n",
            ">>> Unfrozen_ResNet152 === Epoch [3/3], Step [60/126], Loss: 0.0828\n",
            ">>> Unfrozen_ResNet152 === Epoch [3/3], Step [90/126], Loss: 0.0550\n",
            ">>> Unfrozen_ResNet152 === Epoch [3/3], Step [120/126], Loss: 0.0083\n",
            "\n",
            ">>> Unfrozen_ResNet152 === Test Accuracy of the model on the 1728 test samples: 99.53703703703704 %\n",
            "\n"
          ],
          "name": "stdout"
        }
      ]
    },
    {
      "metadata": {
        "id": "dHpfOjRG2jxS",
        "colab_type": "code",
        "colab": {
          "base_uri": "https://localhost:8080/",
          "height": 269
        },
        "outputId": "5bada98b-74a7-4f24-a283-14d89b2a36d2"
      },
      "cell_type": "code",
      "source": [
        "save_results(loss_list, accuracy_list, name)"
      ],
      "execution_count": 20,
      "outputs": [
        {
          "output_type": "display_data",
          "data": {
            "image/png": "[encoded data removed]",
            "text/plain": [
              "<Figure size 432x288 with 1 Axes>"
            ]
          },
          "metadata": {
            "tags": []
          }
        }
      ]
    },
    {
      "metadata": {
        "id": "CAENIcrMl34y",
        "colab_type": "text"
      },
      "cell_type": "markdown",
      "source": [
        "#### Pretrained VGG"
      ]
    },
    {
      "metadata": {
        "id": "65Ws1oAqmLJC",
        "colab_type": "text"
      },
      "cell_type": "markdown",
      "source": [
        "##### with frozen parameters"
      ]
    },
    {
      "metadata": {
        "id": "J9U6f6d3mOEN",
        "colab_type": "code",
        "colab": {
          "base_uri": "https://localhost:8080/",
          "height": 272
        },
        "outputId": "c7e2febe-2b4d-4954-bf6a-ce8206e48642"
      },
      "cell_type": "code",
      "source": [
        "# VGG\n",
        "model = models.vgg19(pretrained=True)\n",
        "\n",
        "name = 'Frozen_VGG19'\n",
        "frozen_vgg = make_new_pretrained_model_vgg(model)\n",
        "\n",
        "train_again = True # 调整这个来确定是否重新训练\n",
        "loss_list = []\n",
        "accuracy_list = []\n",
        "\n",
        "if(train_again or not os.path.exists(name+'.ckpt')):\n",
        "    # Frozen params:\n",
        "    for para in list(frozen_vgg.parameters())[:-2]:\n",
        "        para.requires_grad = False\n",
        "\n",
        "    opt = torch.optim.Adamax(\n",
        "        params=[frozen_vgg.classifier._modules['6'].weight, frozen_vgg.classifier._modules['6'].bias],\n",
        "        lr=learning_rate,\n",
        "        weight_decay=wd\n",
        "    )\n",
        "    \n",
        "    train_it(train_loader, frozen_vgg, opt, loss_list, name)\n",
        "else:\n",
        "    frozen_vgg.load_state_dict(torch.load(name+'.ckpt'))\n",
        "    \n",
        "test_it(valid_loader, frozen_vgg, accuracy_list, name)\n",
        "\n",
        "if(train_again or not os.path.exists(name+'.ckpt')):\n",
        "    torch.save(frozen_vgg.state_dict(), name+'.ckpt')\n",
        "\n",
        "del model"
      ],
      "execution_count": 21,
      "outputs": [
        {
          "output_type": "stream",
          "text": [
            ">>> Frozen_VGG19 === Epoch [1/3], Step [30/126], Loss: 0.2987\n",
            ">>> Frozen_VGG19 === Epoch [1/3], Step [60/126], Loss: 0.2516\n",
            ">>> Frozen_VGG19 === Epoch [1/3], Step [90/126], Loss: 0.5167\n",
            ">>> Frozen_VGG19 === Epoch [1/3], Step [120/126], Loss: 0.2538\n",
            ">>> Frozen_VGG19 === Epoch [2/3], Step [30/126], Loss: 0.1979\n",
            ">>> Frozen_VGG19 === Epoch [2/3], Step [60/126], Loss: 0.2153\n",
            ">>> Frozen_VGG19 === Epoch [2/3], Step [90/126], Loss: 0.1498\n",
            ">>> Frozen_VGG19 === Epoch [2/3], Step [120/126], Loss: 0.1855\n",
            ">>> Frozen_VGG19 === Epoch [3/3], Step [30/126], Loss: 0.2354\n",
            ">>> Frozen_VGG19 === Epoch [3/3], Step [60/126], Loss: 0.1426\n",
            ">>> Frozen_VGG19 === Epoch [3/3], Step [90/126], Loss: 0.1308\n",
            ">>> Frozen_VGG19 === Epoch [3/3], Step [120/126], Loss: 0.1405\n",
            "\n",
            ">>> Frozen_VGG19 === Test Accuracy of the model on the 1728 test samples: 94.27083333333333 %\n",
            "\n"
          ],
          "name": "stdout"
        }
      ]
    },
    {
      "metadata": {
        "id": "dYlGdCoG2qsD",
        "colab_type": "code",
        "colab": {
          "base_uri": "https://localhost:8080/",
          "height": 269
        },
        "outputId": "a3118093-ffd8-4cc4-83c5-51cae4521f41"
      },
      "cell_type": "code",
      "source": [
        "save_results(loss_list, accuracy_list, name)"
      ],
      "execution_count": 22,
      "outputs": [
        {
          "output_type": "display_data",
          "data": {
            "image/png": "[encoded data removed]",
            "text/plain": [
              "<Figure size 432x288 with 1 Axes>"
            ]
          },
          "metadata": {
            "tags": []
          }
        }
      ]
    },
    {
      "metadata": {
        "id": "CYmrewgNmM3d",
        "colab_type": "text"
      },
      "cell_type": "markdown",
      "source": [
        "##### without frozen parameters"
      ]
    },
    {
      "metadata": {
        "id": "ycYn9GxGmhwL",
        "colab_type": "code",
        "colab": {
          "base_uri": "https://localhost:8080/",
          "height": 272
        },
        "outputId": "64879e06-08c1-4a20-82f5-0aa64c87bd87"
      },
      "cell_type": "code",
      "source": [
        "# VGG\n",
        "model = models.vgg19(pretrained=True)\n",
        "\n",
        "name = 'Unfrozen_VGG19'\n",
        "un_frozen_vgg = make_new_pretrained_model_vgg(model)\n",
        "\n",
        "train_again = True # 调整这个来确定是否重新训练\n",
        "loss_list = []\n",
        "accuracy_list = []\n",
        "\n",
        "if(train_again or not os.path.exists(name+'.ckpt')):\n",
        "    opt = torch.optim.Adamax(\n",
        "        un_frozen_vgg.parameters(),\n",
        "        lr=learning_rate,\n",
        "        weight_decay=wd\n",
        "    )\n",
        "    \n",
        "    train_it(train_loader, un_frozen_vgg, opt, loss_list, name)\n",
        "else:\n",
        "    un_frozen_vgg.load_state_dict(torch.load(name+'.ckpt'))\n",
        "    \n",
        "test_it(valid_loader, un_frozen_vgg, accuracy_list, name)\n",
        "\n",
        "if(train_again or not os.path.exists(name+'.ckpt')):\n",
        "    torch.save(un_frozen_vgg.state_dict(), name+'.ckpt')\n",
        "\n",
        "del model"
      ],
      "execution_count": 23,
      "outputs": [
        {
          "output_type": "stream",
          "text": [
            ">>> Unfrozen_VGG19 === Epoch [1/3], Step [30/126], Loss: 0.7073\n",
            ">>> Unfrozen_VGG19 === Epoch [1/3], Step [60/126], Loss: 0.4979\n",
            ">>> Unfrozen_VGG19 === Epoch [1/3], Step [90/126], Loss: 0.2368\n",
            ">>> Unfrozen_VGG19 === Epoch [1/3], Step [120/126], Loss: 0.1926\n",
            ">>> Unfrozen_VGG19 === Epoch [2/3], Step [30/126], Loss: 0.2107\n",
            ">>> Unfrozen_VGG19 === Epoch [2/3], Step [60/126], Loss: 0.0548\n",
            ">>> Unfrozen_VGG19 === Epoch [2/3], Step [90/126], Loss: 0.1845\n",
            ">>> Unfrozen_VGG19 === Epoch [2/3], Step [120/126], Loss: 0.0622\n",
            ">>> Unfrozen_VGG19 === Epoch [3/3], Step [30/126], Loss: 0.0301\n",
            ">>> Unfrozen_VGG19 === Epoch [3/3], Step [60/126], Loss: 0.0260\n",
            ">>> Unfrozen_VGG19 === Epoch [3/3], Step [90/126], Loss: 0.0444\n",
            ">>> Unfrozen_VGG19 === Epoch [3/3], Step [120/126], Loss: 0.2015\n",
            "\n",
            ">>> Unfrozen_VGG19 === Test Accuracy of the model on the 1728 test samples: 97.68518518518519 %\n",
            "\n"
          ],
          "name": "stdout"
        }
      ]
    },
    {
      "metadata": {
        "id": "_Y60DeEf2sEz",
        "colab_type": "code",
        "colab": {
          "base_uri": "https://localhost:8080/",
          "height": 269
        },
        "outputId": "ec44541c-6824-4fa1-ae21-33e67552f618"
      },
      "cell_type": "code",
      "source": [
        "save_results(loss_list, accuracy_list, name)"
      ],
      "execution_count": 24,
      "outputs": [
        {
          "output_type": "display_data",
          "data": {
            "image/png": "[encoded data removed]",
            "text/plain": [
              "<Figure size 432x288 with 1 Axes>"
            ]
          },
          "metadata": {
            "tags": []
          }
        }
      ]
    },
    {
      "metadata": {
        "id": "_fhBy5un4OOx",
        "colab_type": "text"
      },
      "cell_type": "markdown",
      "source": [
        "#### Pretrained DenseNet"
      ]
    },
    {
      "metadata": {
        "id": "2Yb7xgtZ4VLn",
        "colab_type": "text"
      },
      "cell_type": "markdown",
      "source": [
        "##### with frozen parameters"
      ]
    },
    {
      "metadata": {
        "id": "i3u8dSNo45XB",
        "colab_type": "text"
      },
      "cell_type": "markdown",
      "source": [
        "- DenseNet121"
      ]
    },
    {
      "metadata": {
        "id": "_vhRlJnI4XZQ",
        "colab_type": "code",
        "colab": {
          "base_uri": "https://localhost:8080/",
          "height": 326
        },
        "outputId": "205278eb-d4bd-4802-9a4d-1890710c30cc"
      },
      "cell_type": "code",
      "source": [
        "# DenseNet\n",
        "model = models.densenet121(pretrained=True)\n",
        "# model = models.densenet161(pretrained=True)\n",
        "\n",
        "name = 'Frozen_DenseNet121'\n",
        "frozen_dense = make_new_pretrained_model_dense(model)\n",
        "\n",
        "train_again = True # 调整这个来确定是否重新训练\n",
        "loss_list = []\n",
        "accuracy_list = []\n",
        "\n",
        "if(train_again or not os.path.exists(name+'.ckpt')):\n",
        "    # Frozen params:\n",
        "    for para in list(frozen_dense.parameters())[:-2]:\n",
        "        para.requires_grad = False\n",
        "\n",
        "    opt = torch.optim.Adamax(\n",
        "        params=[frozen_dense.classifier.weight, frozen_dense.classifier.bias],\n",
        "        lr=learning_rate,\n",
        "        weight_decay=wd\n",
        "    )\n",
        "    \n",
        "    train_it(train_loader, frozen_dense, opt, loss_list, name)\n",
        "else:\n",
        "    frozen_dense.load_state_dict(torch.load(name+'.ckpt'))\n",
        "    \n",
        "test_it(valid_loader, frozen_dense, accuracy_list, name)\n",
        "\n",
        "if(train_again or not os.path.exists(name+'.ckpt')):\n",
        "    torch.save(frozen_dense.state_dict(), name+'.ckpt')\n",
        "\n",
        "del model"
      ],
      "execution_count": 25,
      "outputs": [
        {
          "output_type": "stream",
          "text": [
            "Downloading: \"https://download.pytorch.org/models/densenet121-a639ec97.pth\" to /root/.torch/models/densenet121-a639ec97.pth\n",
            "32342954it [00:01, 26962322.71it/s]\n"
          ],
          "name": "stderr"
        },
        {
          "output_type": "stream",
          "text": [
            ">>> Frozen_DenseNet121 === Epoch [1/3], Step [30/126], Loss: 0.7808\n",
            ">>> Frozen_DenseNet121 === Epoch [1/3], Step [60/126], Loss: 0.4720\n",
            ">>> Frozen_DenseNet121 === Epoch [1/3], Step [90/126], Loss: 0.3873\n",
            ">>> Frozen_DenseNet121 === Epoch [1/3], Step [120/126], Loss: 0.4665\n",
            ">>> Frozen_DenseNet121 === Epoch [2/3], Step [30/126], Loss: 0.3384\n",
            ">>> Frozen_DenseNet121 === Epoch [2/3], Step [60/126], Loss: 0.4794\n",
            ">>> Frozen_DenseNet121 === Epoch [2/3], Step [90/126], Loss: 0.3457\n",
            ">>> Frozen_DenseNet121 === Epoch [2/3], Step [120/126], Loss: 0.2499\n",
            ">>> Frozen_DenseNet121 === Epoch [3/3], Step [30/126], Loss: 0.2775\n",
            ">>> Frozen_DenseNet121 === Epoch [3/3], Step [60/126], Loss: 0.3050\n",
            ">>> Frozen_DenseNet121 === Epoch [3/3], Step [90/126], Loss: 0.4342\n",
            ">>> Frozen_DenseNet121 === Epoch [3/3], Step [120/126], Loss: 0.3412\n",
            "\n",
            ">>> Frozen_DenseNet121 === Test Accuracy of the model on the 1728 test samples: 91.72453703703704 %\n",
            "\n"
          ],
          "name": "stdout"
        }
      ]
    },
    {
      "metadata": {
        "id": "LAP0w-pw2uza",
        "colab_type": "code",
        "colab": {
          "base_uri": "https://localhost:8080/",
          "height": 269
        },
        "outputId": "f7e5d8c1-3040-4f60-dfe3-586ead89c0ec"
      },
      "cell_type": "code",
      "source": [
        "save_results(loss_list, accuracy_list, name)"
      ],
      "execution_count": 26,
      "outputs": [
        {
          "output_type": "display_data",
          "data": {
            "image/png": "[encoded data removed]",
            "text/plain": [
              "<Figure size 432x288 with 1 Axes>"
            ]
          },
          "metadata": {
            "tags": []
          }
        }
      ]
    },
    {
      "metadata": {
        "id": "r4u5fhkb49B0",
        "colab_type": "text"
      },
      "cell_type": "markdown",
      "source": [
        "- DenseNet161"
      ]
    },
    {
      "metadata": {
        "id": "aTx93oZD4-CY",
        "colab_type": "code",
        "colab": {
          "base_uri": "https://localhost:8080/",
          "height": 272
        },
        "outputId": "f4979606-d580-482d-b728-ad916332bd27"
      },
      "cell_type": "code",
      "source": [
        "# DenseNet\n",
        "# model = models.densenet121(pretrained=True)\n",
        "model = models.densenet161(pretrained=True)\n",
        "\n",
        "name = 'Frozen_DenseNet161'\n",
        "frozen_dense = make_new_pretrained_model_dense(model)\n",
        "\n",
        "train_again = True # 调整这个来确定是否重新训练\n",
        "loss_list = []\n",
        "accuracy_list = []\n",
        "\n",
        "if(train_again or not os.path.exists(name+'.ckpt')):\n",
        "    # Frozen params:\n",
        "    for para in list(frozen_dense.parameters())[:-2]:\n",
        "        para.requires_grad = False\n",
        "\n",
        "    opt = torch.optim.Adamax(\n",
        "        params=[frozen_dense.classifier.weight, frozen_dense.classifier.bias],\n",
        "        lr=learning_rate,\n",
        "        weight_decay=wd\n",
        "    )\n",
        "    \n",
        "    train_it(train_loader, frozen_dense, opt, loss_list, name)\n",
        "else:\n",
        "    frozen_dense.load_state_dict(torch.load(name+'.ckpt'))\n",
        "    \n",
        "test_it(valid_loader, frozen_dense, accuracy_list, name)\n",
        "\n",
        "if(train_again or not os.path.exists(name+'.ckpt')):\n",
        "    torch.save(frozen_dense.state_dict(), name+'.ckpt')\n",
        "\n",
        "del model"
      ],
      "execution_count": 27,
      "outputs": [
        {
          "output_type": "stream",
          "text": [
            ">>> Frozen_DenseNet161 === Epoch [1/3], Step [30/126], Loss: 0.6077\n",
            ">>> Frozen_DenseNet161 === Epoch [1/3], Step [60/126], Loss: 0.4325\n",
            ">>> Frozen_DenseNet161 === Epoch [1/3], Step [90/126], Loss: 0.4809\n",
            ">>> Frozen_DenseNet161 === Epoch [1/3], Step [120/126], Loss: 0.4179\n",
            ">>> Frozen_DenseNet161 === Epoch [2/3], Step [30/126], Loss: 0.4885\n",
            ">>> Frozen_DenseNet161 === Epoch [2/3], Step [60/126], Loss: 0.3579\n",
            ">>> Frozen_DenseNet161 === Epoch [2/3], Step [90/126], Loss: 0.2624\n",
            ">>> Frozen_DenseNet161 === Epoch [2/3], Step [120/126], Loss: 0.1885\n",
            ">>> Frozen_DenseNet161 === Epoch [3/3], Step [30/126], Loss: 0.2525\n",
            ">>> Frozen_DenseNet161 === Epoch [3/3], Step [60/126], Loss: 0.1808\n",
            ">>> Frozen_DenseNet161 === Epoch [3/3], Step [90/126], Loss: 0.2705\n",
            ">>> Frozen_DenseNet161 === Epoch [3/3], Step [120/126], Loss: 0.4619\n",
            "\n",
            ">>> Frozen_DenseNet161 === Test Accuracy of the model on the 1728 test samples: 93.98148148148148 %\n",
            "\n"
          ],
          "name": "stdout"
        }
      ]
    },
    {
      "metadata": {
        "id": "MO7A3sBY2wWb",
        "colab_type": "code",
        "colab": {
          "base_uri": "https://localhost:8080/",
          "height": 269
        },
        "outputId": "6baebc31-d02d-4503-d8dd-384c3153e136"
      },
      "cell_type": "code",
      "source": [
        "save_results(loss_list, accuracy_list, name)"
      ],
      "execution_count": 28,
      "outputs": [
        {
          "output_type": "display_data",
          "data": {
            "image/png": "[encoded data removed]",
            "text/plain": [
              "<Figure size 432x288 with 1 Axes>"
            ]
          },
          "metadata": {
            "tags": []
          }
        }
      ]
    },
    {
      "metadata": {
        "id": "JYGC-gTW4Ui-",
        "colab_type": "text"
      },
      "cell_type": "markdown",
      "source": [
        "##### without frozen parameters"
      ]
    },
    {
      "metadata": {
        "id": "lxt3XLqX470M",
        "colab_type": "text"
      },
      "cell_type": "markdown",
      "source": [
        "- DenseNet121"
      ]
    },
    {
      "metadata": {
        "id": "8NkswW9u4Sq2",
        "colab_type": "code",
        "colab": {
          "base_uri": "https://localhost:8080/",
          "height": 272
        },
        "outputId": "73749e0b-ed72-4870-8c72-276eb7a1b668"
      },
      "cell_type": "code",
      "source": [
        "# DenseNet\n",
        "model = models.densenet121(pretrained=True)\n",
        "# model = models.densenet161(pretrained=True)\n",
        "\n",
        "name = 'Unfrozen_DenseNet121'\n",
        "un_frozen_dense = make_new_pretrained_model_dense(model)\n",
        "\n",
        "train_again = True # 调整这个来确定是否重新训练\n",
        "loss_list = []\n",
        "accuracy_list = []\n",
        "\n",
        "if(train_again or not os.path.exists(name+'.ckpt')):\n",
        "    opt = torch.optim.Adamax(\n",
        "        un_frozen_dense.parameters(),\n",
        "        lr=learning_rate,\n",
        "        weight_decay=wd\n",
        "    )\n",
        "    \n",
        "    train_it(train_loader, un_frozen_dense, opt, loss_list, name)\n",
        "else:\n",
        "    un_frozen_dense.load_state_dict(torch.load(name+'.ckpt'))\n",
        "    \n",
        "test_it(valid_loader, un_frozen_dense, accuracy_list, name)\n",
        "\n",
        "if(train_again or not os.path.exists(name+'.ckpt')):\n",
        "    torch.save(un_frozen_dense.state_dict(), name+'.ckpt')\n",
        "\n",
        "del model"
      ],
      "execution_count": 29,
      "outputs": [
        {
          "output_type": "stream",
          "text": [
            ">>> Unfrozen_DenseNet121 === Epoch [1/3], Step [30/126], Loss: 0.0722\n",
            ">>> Unfrozen_DenseNet121 === Epoch [1/3], Step [60/126], Loss: 0.0147\n",
            ">>> Unfrozen_DenseNet121 === Epoch [1/3], Step [90/126], Loss: 0.0102\n",
            ">>> Unfrozen_DenseNet121 === Epoch [1/3], Step [120/126], Loss: 0.0158\n",
            ">>> Unfrozen_DenseNet121 === Epoch [2/3], Step [30/126], Loss: 0.0035\n",
            ">>> Unfrozen_DenseNet121 === Epoch [2/3], Step [60/126], Loss: 0.0065\n",
            ">>> Unfrozen_DenseNet121 === Epoch [2/3], Step [90/126], Loss: 0.0051\n",
            ">>> Unfrozen_DenseNet121 === Epoch [2/3], Step [120/126], Loss: 0.0186\n",
            ">>> Unfrozen_DenseNet121 === Epoch [3/3], Step [30/126], Loss: 0.0045\n",
            ">>> Unfrozen_DenseNet121 === Epoch [3/3], Step [60/126], Loss: 0.0113\n",
            ">>> Unfrozen_DenseNet121 === Epoch [3/3], Step [90/126], Loss: 0.0503\n",
            ">>> Unfrozen_DenseNet121 === Epoch [3/3], Step [120/126], Loss: 0.0120\n",
            "\n",
            ">>> Unfrozen_DenseNet121 === Test Accuracy of the model on the 1728 test samples: 99.88425925925925 %\n",
            "\n"
          ],
          "name": "stdout"
        }
      ]
    },
    {
      "metadata": {
        "id": "vB27YWs92x6G",
        "colab_type": "code",
        "colab": {
          "base_uri": "https://localhost:8080/",
          "height": 269
        },
        "outputId": "c631f3e4-657c-4e75-90e5-bd4cccd15d59"
      },
      "cell_type": "code",
      "source": [
        "save_results(loss_list, accuracy_list, name)"
      ],
      "execution_count": 30,
      "outputs": [
        {
          "output_type": "display_data",
          "data": {
            "image/png": "[encoded data removed]",
            "text/plain": [
              "<Figure size 432x288 with 1 Axes>"
            ]
          },
          "metadata": {
            "tags": []
          }
        }
      ]
    },
    {
      "metadata": {
        "id": "H3CFbwiA4_TO",
        "colab_type": "text"
      },
      "cell_type": "markdown",
      "source": [
        "- DenseNet161"
      ]
    },
    {
      "metadata": {
        "id": "b0zzR-Zu5Bc3",
        "colab_type": "code",
        "colab": {
          "base_uri": "https://localhost:8080/",
          "height": 272
        },
        "outputId": "3cae63fb-f970-4889-af7c-1dcf3eeab970"
      },
      "cell_type": "code",
      "source": [
        "# DenseNet\n",
        "# model = models.densenet121(pretrained=True)\n",
        "model = models.densenet161(pretrained=True)\n",
        "\n",
        "name = 'Unfrozen_DenseNet161'\n",
        "un_frozen_dense = make_new_pretrained_model_dense(model)\n",
        "\n",
        "train_again = True # 调整这个来确定是否重新训练\n",
        "loss_list = []\n",
        "accuracy_list = []\n",
        "\n",
        "if(train_again or not os.path.exists(name+'.ckpt')):\n",
        "    opt = torch.optim.Adamax(\n",
        "        un_frozen_dense.parameters(),\n",
        "        lr=learning_rate,\n",
        "        weight_decay=wd\n",
        "    )\n",
        "    \n",
        "    train_it(train_loader, un_frozen_dense, opt, loss_list, name)\n",
        "else:\n",
        "    un_frozen_dense.load_state_dict(torch.load(name+'.ckpt'))\n",
        "    \n",
        "test_it(valid_loader, un_frozen_dense, accuracy_list, name)\n",
        "\n",
        "if(train_again or not os.path.exists(name+'.ckpt')):\n",
        "    torch.save(un_frozen_dense.state_dict(), name+'.ckpt')\n",
        "\n",
        "del model"
      ],
      "execution_count": 31,
      "outputs": [
        {
          "output_type": "stream",
          "text": [
            ">>> Unfrozen_DenseNet161 === Epoch [1/3], Step [30/126], Loss: 0.0656\n",
            ">>> Unfrozen_DenseNet161 === Epoch [1/3], Step [60/126], Loss: 0.0892\n",
            ">>> Unfrozen_DenseNet161 === Epoch [1/3], Step [90/126], Loss: 0.0488\n",
            ">>> Unfrozen_DenseNet161 === Epoch [1/3], Step [120/126], Loss: 0.0240\n",
            ">>> Unfrozen_DenseNet161 === Epoch [2/3], Step [30/126], Loss: 0.0152\n",
            ">>> Unfrozen_DenseNet161 === Epoch [2/3], Step [60/126], Loss: 0.0011\n",
            ">>> Unfrozen_DenseNet161 === Epoch [2/3], Step [90/126], Loss: 0.0270\n",
            ">>> Unfrozen_DenseNet161 === Epoch [2/3], Step [120/126], Loss: 0.0039\n",
            ">>> Unfrozen_DenseNet161 === Epoch [3/3], Step [30/126], Loss: 0.0045\n",
            ">>> Unfrozen_DenseNet161 === Epoch [3/3], Step [60/126], Loss: 0.0090\n",
            ">>> Unfrozen_DenseNet161 === Epoch [3/3], Step [90/126], Loss: 0.0017\n",
            ">>> Unfrozen_DenseNet161 === Epoch [3/3], Step [120/126], Loss: 0.0011\n",
            "\n",
            ">>> Unfrozen_DenseNet161 === Test Accuracy of the model on the 1728 test samples: 99.76851851851852 %\n",
            "\n"
          ],
          "name": "stdout"
        }
      ]
    },
    {
      "metadata": {
        "id": "SjXA6O3z2zO5",
        "colab_type": "code",
        "colab": {
          "base_uri": "https://localhost:8080/",
          "height": 269
        },
        "outputId": "00e4183b-2cb0-4371-f0a5-448b3e859df5"
      },
      "cell_type": "code",
      "source": [
        "save_results(loss_list, accuracy_list, name)"
      ],
      "execution_count": 32,
      "outputs": [
        {
          "output_type": "display_data",
          "data": {
            "image/png": "[encoded data removed]",
            "text/plain": [
              "<Figure size 432x288 with 1 Axes>"
            ]
          },
          "metadata": {
            "tags": []
          }
        }
      ]
    },
    {
      "metadata": {
        "id": "VJCP8K2H4lLQ",
        "colab_type": "text"
      },
      "cell_type": "markdown",
      "source": [
        "#### Pretrained Inception v3"
      ]
    },
    {
      "metadata": {
        "id": "W64xOHdZjePG",
        "colab_type": "code",
        "colab": {}
      },
      "cell_type": "code",
      "source": [
        "# Input scale of Inception v3 is uniquely 299 by 299.\n",
        "\n",
        "incep_transform = transforms.Compose([\n",
        "    transforms.Resize(299),\n",
        "    transforms.ToTensor()\n",
        "])\n",
        "\n",
        "incep_train_dataset = DVS_PNG_DATASET('train.csv', incep_transform)\n",
        "incep_valid_dataset = DVS_PNG_DATASET('valid.csv', incep_transform)\n",
        "\n",
        "incep_train_loader = torch.utils.data.DataLoader(\n",
        "    dataset=incep_train_dataset,\n",
        "    batch_size=batch_size,\n",
        "    num_workers=4,\n",
        "    shuffle=True\n",
        ")\n",
        "\n",
        "incep_valid_loader = torch.utils.data.DataLoader(\n",
        "    dataset=incep_valid_dataset,\n",
        "    batch_size=batch_size,\n",
        "    num_workers=4,\n",
        "    shuffle=False\n",
        ")"
      ],
      "execution_count": 0,
      "outputs": []
    },
    {
      "metadata": {
        "id": "CS4CUmxE4sc1",
        "colab_type": "text"
      },
      "cell_type": "markdown",
      "source": [
        "##### with frozen parameters"
      ]
    },
    {
      "metadata": {
        "id": "2SuUZ7RQ5dXL",
        "colab_type": "code",
        "colab": {
          "base_uri": "https://localhost:8080/",
          "height": 272
        },
        "outputId": "9196b941-d19a-43d0-bb2c-350bb3bd8cde"
      },
      "cell_type": "code",
      "source": [
        "# Inception v3\n",
        "model = models.inception_v3(pretrained=True)\n",
        "\n",
        "name = 'Frozen_Inception_v3'\n",
        "frozen_inception = make_new_pretrained_model(model)\n",
        "\n",
        "train_again = True # 调整这个来确定是否重新训练\n",
        "loss_list = []\n",
        "accuracy_list = []\n",
        "\n",
        "if(train_again or not os.path.exists(name+'.ckpt')):\n",
        "    # Frozen params:\n",
        "    for para in list(frozen_inception.parameters())[:-2]:\n",
        "        para.requires_grad = False\n",
        "\n",
        "    opt = torch.optim.Adamax(\n",
        "        params=[frozen_inception.fc.weight, frozen_inception.fc.bias],\n",
        "        lr=learning_rate,\n",
        "        weight_decay=wd\n",
        "    )\n",
        "    \n",
        "    train_it(incep_train_loader, frozen_inception, opt, loss_list, name)\n",
        "else:\n",
        "    frozen_inception.load_state_dict(torch.load(name+'.ckpt'))\n",
        "    \n",
        "test_it(incep_valid_loader, frozen_inception, accuracy_list, name)\n",
        "\n",
        "if(train_again or not os.path.exists(name+'.ckpt')):\n",
        "    torch.save(frozen_inception.state_dict(), name+'.ckpt')\n",
        "\n",
        "del model"
      ],
      "execution_count": 38,
      "outputs": [
        {
          "output_type": "stream",
          "text": [
            ">>> Frozen_Inception_v3 === Epoch [1/3], Step [30/126], Loss: 3.9574\n",
            ">>> Frozen_Inception_v3 === Epoch [1/3], Step [60/126], Loss: 3.7839\n",
            ">>> Frozen_Inception_v3 === Epoch [1/3], Step [90/126], Loss: 3.6700\n",
            ">>> Frozen_Inception_v3 === Epoch [1/3], Step [120/126], Loss: 3.6741\n",
            ">>> Frozen_Inception_v3 === Epoch [2/3], Step [30/126], Loss: 3.6718\n",
            ">>> Frozen_Inception_v3 === Epoch [2/3], Step [60/126], Loss: 3.7577\n",
            ">>> Frozen_Inception_v3 === Epoch [2/3], Step [90/126], Loss: 3.6074\n",
            ">>> Frozen_Inception_v3 === Epoch [2/3], Step [120/126], Loss: 3.4191\n",
            ">>> Frozen_Inception_v3 === Epoch [3/3], Step [30/126], Loss: 3.3981\n",
            ">>> Frozen_Inception_v3 === Epoch [3/3], Step [60/126], Loss: 3.5209\n",
            ">>> Frozen_Inception_v3 === Epoch [3/3], Step [90/126], Loss: 3.2663\n",
            ">>> Frozen_Inception_v3 === Epoch [3/3], Step [120/126], Loss: 3.5304\n",
            "\n",
            ">>> Frozen_Inception_v3 === Test Accuracy of the model on the 1728 test samples: 90.27777777777777 %\n",
            "\n"
          ],
          "name": "stdout"
        }
      ]
    },
    {
      "metadata": {
        "id": "FE7TYStV21mA",
        "colab_type": "code",
        "colab": {
          "base_uri": "https://localhost:8080/",
          "height": 269
        },
        "outputId": "67366370-9b7f-4a32-9064-f81ff8309694"
      },
      "cell_type": "code",
      "source": [
        "save_results(loss_list, accuracy_list, name)"
      ],
      "execution_count": 39,
      "outputs": [
        {
          "output_type": "display_data",
          "data": {
            "image/png": "[encoded data removed]",
            "text/plain": [
              "<Figure size 432x288 with 1 Axes>"
            ]
          },
          "metadata": {
            "tags": []
          }
        }
      ]
    },
    {
      "metadata": {
        "id": "HZ3fOigz4vCg",
        "colab_type": "text"
      },
      "cell_type": "markdown",
      "source": [
        "##### without frozen parameters"
      ]
    },
    {
      "metadata": {
        "id": "5SdC33M45eFr",
        "colab_type": "code",
        "colab": {
          "base_uri": "https://localhost:8080/",
          "height": 272
        },
        "outputId": "40a3f0f0-4e94-430c-e7e7-bdda877a52b6"
      },
      "cell_type": "code",
      "source": [
        "# Inception v3\n",
        "model = models.inception_v3(pretrained=True)\n",
        "\n",
        "name = 'Unfrozen_Inception_v3'\n",
        "un_frozen_inception = make_new_pretrained_model(model)\n",
        "\n",
        "train_again = True # 调整这个来确定是否重新训练\n",
        "loss_list = []\n",
        "accuracy_list = []\n",
        "\n",
        "if(train_again or not os.path.exists(name+'.ckpt')):\n",
        "    opt = torch.optim.Adamax(\n",
        "        un_frozen_inception.parameters(),\n",
        "        lr=learning_rate,\n",
        "        weight_decay=wd\n",
        "    )\n",
        "    \n",
        "    train_it(incep_train_loader, un_frozen_inception, opt, loss_list, name)\n",
        "else:\n",
        "    un_frozen_inception.load_state_dict(torch.load(name+'.ckpt'))\n",
        "    \n",
        "test_it(incep_valid_loader, un_frozen_inception, accuracy_list, name)\n",
        "\n",
        "if(train_again or not os.path.exists(name+'.ckpt')):\n",
        "    torch.save(un_frozen_inception.state_dict(), name+'.ckpt')\n",
        "\n",
        "del model"
      ],
      "execution_count": 40,
      "outputs": [
        {
          "output_type": "stream",
          "text": [
            ">>> Unfrozen_Inception_v3 === Epoch [1/3], Step [30/126], Loss: 0.1131\n",
            ">>> Unfrozen_Inception_v3 === Epoch [1/3], Step [60/126], Loss: 0.0213\n",
            ">>> Unfrozen_Inception_v3 === Epoch [1/3], Step [90/126], Loss: 0.0312\n",
            ">>> Unfrozen_Inception_v3 === Epoch [1/3], Step [120/126], Loss: 0.1321\n",
            ">>> Unfrozen_Inception_v3 === Epoch [2/3], Step [30/126], Loss: 0.0103\n",
            ">>> Unfrozen_Inception_v3 === Epoch [2/3], Step [60/126], Loss: 0.0160\n",
            ">>> Unfrozen_Inception_v3 === Epoch [2/3], Step [90/126], Loss: 0.0039\n",
            ">>> Unfrozen_Inception_v3 === Epoch [2/3], Step [120/126], Loss: 0.0161\n",
            ">>> Unfrozen_Inception_v3 === Epoch [3/3], Step [30/126], Loss: 0.0018\n",
            ">>> Unfrozen_Inception_v3 === Epoch [3/3], Step [60/126], Loss: 0.0532\n",
            ">>> Unfrozen_Inception_v3 === Epoch [3/3], Step [90/126], Loss: 0.0045\n",
            ">>> Unfrozen_Inception_v3 === Epoch [3/3], Step [120/126], Loss: 0.0043\n",
            "\n",
            ">>> Unfrozen_Inception_v3 === Test Accuracy of the model on the 1728 test samples: 99.5949074074074 %\n",
            "\n"
          ],
          "name": "stdout"
        }
      ]
    },
    {
      "metadata": {
        "id": "KRDOaA6F2267",
        "colab_type": "code",
        "colab": {
          "base_uri": "https://localhost:8080/",
          "height": 269
        },
        "outputId": "a7212b1d-09a5-44e3-d064-16edec5c84a6"
      },
      "cell_type": "code",
      "source": [
        "save_results(loss_list, accuracy_list, name)"
      ],
      "execution_count": 41,
      "outputs": [
        {
          "output_type": "display_data",
          "data": {
            "image/png": "[encoded data removed]",
            "text/plain": [
              "<Figure size 432x288 with 1 Axes>"
            ]
          },
          "metadata": {
            "tags": []
          }
        }
      ]
    }
  ]
}